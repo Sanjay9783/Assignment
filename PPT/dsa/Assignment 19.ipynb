{
 "cells": [
  {
   "cell_type": "markdown",
   "id": "741dd43d",
   "metadata": {},
   "source": [
    "1. **Merge k Sorted Lists**\n",
    "\n",
    "You are given an array of `k` linked-lists `lists`, each linked-list is sorted in ascending order.\n",
    "\n",
    "*Merge all the linked-lists into one sorted linked-list and return it.*"
   ]
  },
  {
   "cell_type": "code",
   "execution_count": null,
   "id": "46fc5207",
   "metadata": {},
   "outputs": [],
   "source": []
  },
  {
   "cell_type": "markdown",
   "id": "4247999f",
   "metadata": {},
   "source": [
    "2. **Count of Smaller Numbers After Self**\n",
    "\n",
    "Given an integer array `nums`, return *an integer array* `counts` *where* `counts[i]` *is the number of smaller elements to the right of* `nums[i]`."
   ]
  },
  {
   "cell_type": "code",
   "execution_count": null,
   "id": "d98a4740",
   "metadata": {},
   "outputs": [],
   "source": []
  },
  {
   "cell_type": "markdown",
   "id": "4504ec6e",
   "metadata": {},
   "source": [
    "3. **Sort an Array**\n",
    "\n",
    "Given an array of integers `nums`, sort the array in ascending order and return it.\n",
    "\n",
    "You must solve the problem **without using any built-in** functions in `O(nlog(n))` time complexity and with the smallest space complexity possible."
   ]
  },
  {
   "cell_type": "code",
   "execution_count": 10,
   "id": "1d882e19",
   "metadata": {},
   "outputs": [
    {
     "name": "stdout",
     "output_type": "stream",
     "text": [
      "[1, 2, 3, 5]\n"
     ]
    }
   ],
   "source": [
    "def sortArray(nums):\n",
    "    def mergeSort(nums):\n",
    "        if len(nums) <= 1:\n",
    "            return nums\n",
    "\n",
    "        mid = len(nums) // 2\n",
    "        left = mergeSort(nums[:mid])\n",
    "        right = mergeSort(nums[mid:])\n",
    "\n",
    "        return merge(left, right)\n",
    "\n",
    "    def merge(left, right):\n",
    "        merged = []\n",
    "        i = j = 0\n",
    "\n",
    "        while i < len(left) and j < len(right):\n",
    "            if left[i] <= right[j]:\n",
    "                merged.append(left[i])\n",
    "                i += 1\n",
    "            else:\n",
    "                merged.append(right[j])\n",
    "                j += 1\n",
    "\n",
    "        while i < len(left):\n",
    "            merged.append(left[i])\n",
    "            i += 1\n",
    "\n",
    "        while j < len(right):\n",
    "            merged.append(right[j])\n",
    "            j += 1\n",
    "\n",
    "        return merged\n",
    "\n",
    "    return mergeSort(nums)\n",
    "\n",
    "\n",
    "nums = [5, 2, 3, 1]\n",
    "sorted_nums = sortArray(nums)\n",
    "print(sorted_nums)"
   ]
  },
  {
   "cell_type": "markdown",
   "id": "8cb0bd43",
   "metadata": {},
   "source": [
    "4. **Move all zeroes to end of array**\n",
    "\n",
    "Given an array of random numbers, Push all the zero’s of a given array to the end of the array. For example, if the given arrays is {1, 9, 8, 4, 0, 0, 2, 7, 0, 6, 0}, it should be changed to {1, 9, 8, 4, 2, 7, 6, 0, 0, 0, 0}. The order of all other elements should be same. Expected time complexity is O(n) and extra space is O(1)."
   ]
  },
  {
   "cell_type": "code",
   "execution_count": 11,
   "id": "70e1a1cd",
   "metadata": {},
   "outputs": [
    {
     "name": "stdout",
     "output_type": "stream",
     "text": [
      "[1, 9, 8, 4, 2, 7, 6, 0, 0, 0, 0]\n",
      "[1, 2, 4, 3, 5, 0, 0, 0]\n",
      "[1, 2, 3, 6, 0, 0, 0]\n"
     ]
    }
   ],
   "source": [
    "def moveZeroes(arr):\n",
    "    n = len(arr)\n",
    "    zero_count = 0  \n",
    "    \n",
    "    for i in range(n):\n",
    "        if arr[i] != 0:\n",
    "            arr[i - zero_count] = arr[i]\n",
    "        else:\n",
    "            zero_count += 1\n",
    "\n",
    "    while zero_count > 0:\n",
    "        arr[n - zero_count] = 0\n",
    "        zero_count -= 1\n",
    "\n",
    "    return arr\n",
    "\n",
    "arr1 = [1, 9, 8, 4, 0, 0, 2, 7, 0, 6, 0]\n",
    "arr2 = [1, 2, 0, 4, 3, 0, 5, 0]\n",
    "arr3 = [1, 2, 0, 0, 0, 3, 6]\n",
    "\n",
    "print(moveZeroes(arr1))\n",
    "print(moveZeroes(arr2))\n",
    "print(moveZeroes(arr3))"
   ]
  },
  {
   "cell_type": "markdown",
   "id": "fd2d8da1",
   "metadata": {},
   "source": [
    "5. **Rearrange array in alternating positive & negative items with O(1) extra space**\n",
    "\n",
    "Given an **array of positive** and **negative numbers**, arrange them in an **alternate** fashion such that every positive number is followed by a negative and vice-versa maintaining the **order of appearance**. The number of positive and negative numbers need not be equal. If there are more positive numbers they appear at the end of the array. If there are more negative numbers, they too appear at the end of the array."
   ]
  },
  {
   "cell_type": "code",
   "execution_count": 12,
   "id": "5e9e89e9",
   "metadata": {},
   "outputs": [
    {
     "name": "stdout",
     "output_type": "stream",
     "text": [
      "[1, 2, 3, 4, -1, -4]\n",
      "[5, 2, 4, 7, 1, 8, 0, -2, -5, -8]\n"
     ]
    }
   ],
   "source": [
    "def rearrangeAlternate(arr):\n",
    "    n = len(arr)\n",
    "    i, j = 0, 0\n",
    "\n",
    "    while i < n and arr[i] >= 0:\n",
    "        i += 1\n",
    "\n",
    "    while i < n and j < n:\n",
    "        while i < n and arr[i] >= 0:\n",
    "            i += 1\n",
    "\n",
    "        while j < n and (j <= i or arr[j] < 0):\n",
    "            j += 1\n",
    "\n",
    "        if i < n and j < n:\n",
    "            arr[i:j+1] = arr[i:j+1][::-1]\n",
    "            i += 1\n",
    "            j += 1\n",
    "\n",
    "    return arr\n",
    "\n",
    "\n",
    "arr1 = [1, 2, 3, -4, -1, 4]\n",
    "arr2 = [-5, -2, 5, 2, 4, 7, 1, 8, 0, -8]\n",
    "\n",
    "print(rearrangeAlternate(arr1))\n",
    "print(rearrangeAlternate(arr2))"
   ]
  },
  {
   "cell_type": "markdown",
   "id": "82275281",
   "metadata": {},
   "source": [
    "**6. Merge two sorted arrays**\n",
    "\n",
    "Given two sorted arrays, the task is to merge them in a sorted manner."
   ]
  },
  {
   "cell_type": "code",
   "execution_count": 14,
   "id": "81f4e287",
   "metadata": {},
   "outputs": [
    {
     "name": "stdout",
     "output_type": "stream",
     "text": [
      "[1, 2, 3, 4, 4, 5, 6, 8]\n",
      "[4, 5, 7, 8, 8, 9]\n"
     ]
    }
   ],
   "source": [
    "def mergeSortedArrays(arr1, arr2):\n",
    "    n1 = len(arr1)\n",
    "    n2 = len(arr2)\n",
    "    i = j = k = 0\n",
    "    arr3 = [0] * (n1 + n2)\n",
    "\n",
    "    while i < n1 and j < n2:\n",
    "        if arr1[i] <= arr2[j]:\n",
    "            arr3[k] = arr1[i]\n",
    "            i += 1\n",
    "        else:\n",
    "            arr3[k] = arr2[j]\n",
    "            j += 1\n",
    "        k += 1\n",
    "\n",
    "    while i < n1:\n",
    "        arr3[k] = arr1[i]\n",
    "        i += 1\n",
    "        k += 1\n",
    "\n",
    "    while j < n2:\n",
    "        arr3[k] = arr2[j]\n",
    "        j += 1\n",
    "        k += 1\n",
    "\n",
    "    return arr3\n",
    "\n",
    "arr1 = [1, 3, 4, 5]\n",
    "arr2 = [2, 4, 6, 8]\n",
    "print(mergeSortedArrays(arr1, arr2))\n",
    "\n",
    "arr3 = [5, 8, 9]\n",
    "arr4 = [4, 7, 8]\n",
    "print(mergeSortedArrays(arr3, arr4))"
   ]
  },
  {
   "cell_type": "markdown",
   "id": "fd4ca121",
   "metadata": {},
   "source": [
    "7. **Intersection of Two Arrays**\n",
    "\n",
    "Given two integer arrays `nums1` and `nums2`, return *an array of their intersection*. Each element in the result must be **unique** and you may return the result in **any order**."
   ]
  },
  {
   "cell_type": "code",
   "execution_count": 15,
   "id": "52d45ffe",
   "metadata": {},
   "outputs": [
    {
     "name": "stdout",
     "output_type": "stream",
     "text": [
      "[2]\n"
     ]
    }
   ],
   "source": [
    "def intersection(nums1, nums2):\n",
    "    set1 = set(nums1)\n",
    "    set2 = set(nums2)\n",
    "    return list(set1.intersection(set2))\n",
    "\n",
    "nums1 = [1, 2, 2, 1]\n",
    "nums2 = [2, 2]\n",
    "print(intersection(nums1, nums2))"
   ]
  },
  {
   "cell_type": "markdown",
   "id": "567bbd68",
   "metadata": {},
   "source": [
    "8. **Intersection of Two Arrays II**\n",
    "\n",
    "Given two integer arrays `nums1` and `nums2`, return *an array of their intersection*. Each element in the result must appear as many times as it shows in both arrays and you may return the result in **any order**."
   ]
  },
  {
   "cell_type": "code",
   "execution_count": 16,
   "id": "a228d95c",
   "metadata": {},
   "outputs": [
    {
     "name": "stdout",
     "output_type": "stream",
     "text": [
      "[2, 2]\n"
     ]
    }
   ],
   "source": [
    "from collections import defaultdict\n",
    "\n",
    "def intersect(nums1, nums2):\n",
    "    freq1 = defaultdict(int)\n",
    "    result = []\n",
    "\n",
    "    for num in nums1:\n",
    "        freq1[num] += 1\n",
    "\n",
    "    for num in nums2:\n",
    "        if freq1[num] > 0:\n",
    "            result.append(num)\n",
    "            freq1[num] -= 1\n",
    "\n",
    "    return result\n",
    "\n",
    "\n",
    "nums1 = [1, 2, 2, 1]\n",
    "nums2 = [2, 2]\n",
    "print(intersect(nums1, nums2))"
   ]
  }
 ],
 "metadata": {
  "kernelspec": {
   "display_name": "Python 3 (ipykernel)",
   "language": "python",
   "name": "python3"
  },
  "language_info": {
   "codemirror_mode": {
    "name": "ipython",
    "version": 3
   },
   "file_extension": ".py",
   "mimetype": "text/x-python",
   "name": "python",
   "nbconvert_exporter": "python",
   "pygments_lexer": "ipython3",
   "version": "3.9.12"
  }
 },
 "nbformat": 4,
 "nbformat_minor": 5
}
