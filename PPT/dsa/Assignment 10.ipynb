{
 "cells": [
  {
   "cell_type": "markdown",
   "id": "3ca9f29e",
   "metadata": {},
   "source": [
    "**Question 1**\n",
    "\n",
    "Given an integer `n`, return *`true` if it is a power of three. Otherwise, return `false`*.\n",
    "\n",
    "An integer `n` is a power of three, if there exists an integer `x` such that `n == 3x`.\n",
    "\n",
    "**Example 1:**\n",
    "\n",
    "Input: n = 27\n",
    "Output: true\n",
    "Explanation: 27 = 33\n",
    "    \n",
    "Input: n = 0\n",
    "Output: false\n",
    "Explanation: There is no x where 3x = 0.\n",
    "    \n",
    "Input: n = -1\n",
    "Output: false\n",
    "Explanation: There is no x where 3x = (-1)."
   ]
  },
  {
   "cell_type": "code",
   "execution_count": 1,
   "id": "91f1bf0d",
   "metadata": {},
   "outputs": [
    {
     "name": "stdout",
     "output_type": "stream",
     "text": [
      "True\n",
      "False\n",
      "False\n"
     ]
    }
   ],
   "source": [
    "import math\n",
    "\n",
    "def is_power_of_three(n):\n",
    "    if n <= 0:\n",
    "        return False\n",
    "    power = math.log(n, 3)\n",
    "    return power == int(power)\n",
    "\n",
    "# Example\n",
    "print(is_power_of_three(27))\n",
    "print(is_power_of_three(0))\n",
    "print(is_power_of_three(-1))"
   ]
  },
  {
   "cell_type": "markdown",
   "id": "c5bf47f3",
   "metadata": {},
   "source": [
    "**Question 2**\n",
    "\n",
    "You have a list `arr` of all integers in the range `[1, n]` sorted in a strictly increasing order. Apply the following algorithm on `arr`:\n",
    "\n",
    "- Starting from left to right, remove the first number and every other number afterward until you reach the end of the list.\n",
    "- Repeat the previous step again, but this time from right to left, remove the rightmost number and every other number from the remaining numbers.\n",
    "- Keep repeating the steps again, alternating left to right and right to left, until a single number remains.\n",
    "\n",
    "Given the integer `n`, return *the last number that remains in* `arr`."
   ]
  },
  {
   "cell_type": "code",
   "execution_count": 2,
   "id": "0007546d",
   "metadata": {},
   "outputs": [
    {
     "name": "stdout",
     "output_type": "stream",
     "text": [
      "2\n",
      "1\n"
     ]
    }
   ],
   "source": [
    "def last_remaining(n):\n",
    "    arr = list(range(1, n + 1))\n",
    "    left_to_right = True\n",
    "    step = 2\n",
    "\n",
    "    while len(arr) > 1:\n",
    "        if left_to_right:\n",
    "            arr = arr[step-1::step]\n",
    "        else:\n",
    "            arr = arr[-step::-step]\n",
    "        left_to_right = not left_to_right\n",
    "        step *= 2\n",
    "\n",
    "    return arr[0]\n",
    "\n",
    "# Example\n",
    "print(last_remaining(9))\n",
    "print(last_remaining(1))"
   ]
  },
  {
   "cell_type": "markdown",
   "id": "27232c0e",
   "metadata": {},
   "source": [
    "**Question 3**\n",
    "\n",
    "Given a set represented as a string, write a recursive code to print all subsets of it. The subsets can be printed in any order."
   ]
  },
  {
   "cell_type": "code",
   "execution_count": 3,
   "id": "cf8968e6",
   "metadata": {},
   "outputs": [
    {
     "name": "stdout",
     "output_type": "stream",
     "text": [
      "['abc', 'ab', 'ac', 'a', 'bc', 'b', 'c', '']\n",
      "['abcd', 'abc', 'abd', 'ab', 'acd', 'ac', 'ad', 'a', 'bcd', 'bc', 'bd', 'b', 'cd', 'c', 'd', '']\n"
     ]
    }
   ],
   "source": [
    "def subsets(s):\n",
    "    result = []\n",
    "    generate_subsets(s, 0, \"\", result)\n",
    "    return result\n",
    "\n",
    "def generate_subsets(s, index, current_subset, result):\n",
    "    if index == len(s):\n",
    "        result.append(current_subset)\n",
    "        return\n",
    "\n",
    "    # Include the current element\n",
    "    generate_subsets(s, index + 1, current_subset + s[index], result)\n",
    "\n",
    "    # Exclude the current element\n",
    "    generate_subsets(s, index + 1, current_subset, result)\n",
    "\n",
    "# Example usage\n",
    "print(subsets(\"abc\"))\n",
    "print(subsets(\"abcd\"))"
   ]
  },
  {
   "cell_type": "markdown",
   "id": "ca615b8d",
   "metadata": {},
   "source": [
    "**Question 4**\n",
    "\n",
    "Given a string calculate length of the string using recursion."
   ]
  },
  {
   "cell_type": "code",
   "execution_count": 8,
   "id": "d50bebe9",
   "metadata": {},
   "outputs": [
    {
     "name": "stdout",
     "output_type": "stream",
     "text": [
      "4\n"
     ]
    },
    {
     "data": {
      "text/plain": [
       "13"
      ]
     },
     "execution_count": 8,
     "metadata": {},
     "output_type": "execute_result"
    }
   ],
   "source": [
    "def calculate_length(s):\n",
    "    if s == \"\":\n",
    "        return 0\n",
    "    else:\n",
    "        return 1 + calculate_length(s[1:])\n",
    "\n",
    "# Example\n",
    "str1 = \"abcd\"\n",
    "calculate_length(str1)\n",
    "\n",
    "str2 = \"GEEKSFORGEEKS\"\n",
    "calculate_length(str2)"
   ]
  },
  {
   "cell_type": "markdown",
   "id": "7bb97b5c",
   "metadata": {},
   "source": [
    "**Question 5**\n",
    "\n",
    "We are given a string S, we need to find count of all contiguous substrings starting and ending with same character."
   ]
  },
  {
   "cell_type": "code",
   "execution_count": 7,
   "id": "e61d993c",
   "metadata": {},
   "outputs": [
    {
     "data": {
      "text/plain": [
       "5"
      ]
     },
     "execution_count": 7,
     "metadata": {},
     "output_type": "execute_result"
    }
   ],
   "source": [
    "def count_contiguous_substrings(S):\n",
    "    count = 0\n",
    "    n = len(S)\n",
    "\n",
    "    for i in range(n):\n",
    "        count += 1\n",
    "        j = i + 1\n",
    "        while j < n:\n",
    "            if S[j] == S[i]:\n",
    "                count += 1\n",
    "                j += 1\n",
    "            else:\n",
    "                break\n",
    "\n",
    "    return count\n",
    "\n",
    "# Example\n",
    "S = \"abcab\"\n",
    "count_contiguous_substrings(S)"
   ]
  },
  {
   "cell_type": "markdown",
   "id": "83c73431",
   "metadata": {},
   "source": [
    "**Question 6**\n",
    "\n",
    "The `tower of Hanoi` is a famous puzzle where we have three rods and **N** disks. The objective of the puzzle is to move the entire stack to another rod. You are given the number of discs **N**. Initially, these discs are in the rod 1. You need to print all the steps of discs movement so that all the discs reach the 3rd rod. Also, you need to find the total moves.**Note:** The discs are arranged such that the **top disc is numbered 1** and the **bottom-most disc is numbered N**. Also, all the discs have **different sizes** and a bigger disc **cannot** be put on the top of a smaller disc. Refer the provided link to get a better clarity about the puzzle."
   ]
  },
  {
   "cell_type": "code",
   "execution_count": 6,
   "id": "594a2d0c",
   "metadata": {},
   "outputs": [
    {
     "name": "stdout",
     "output_type": "stream",
     "text": [
      "Move disk 1 from rod 1 to rod 2\n",
      "Move disk 2 from rod 1 to rod 3\n",
      "Move disk 1 from rod 2 to rod 3\n"
     ]
    },
    {
     "data": {
      "text/plain": [
       "3"
      ]
     },
     "execution_count": 6,
     "metadata": {},
     "output_type": "execute_result"
    }
   ],
   "source": [
    "def tower_of_hanoi(n, source, auxiliary, destination):\n",
    "    if n == 1:\n",
    "        print(f\"Move disk 1 from rod {source} to rod {destination}\")\n",
    "        return 1\n",
    "    else:\n",
    "        moves = tower_of_hanoi(n - 1, source, destination, auxiliary)\n",
    "        print(f\"Move disk {n} from rod {source} to rod {destination}\")\n",
    "        moves += 1\n",
    "        moves += tower_of_hanoi(n - 1, auxiliary, source, destination)\n",
    "        return moves\n",
    "\n",
    "# Example\n",
    "N = 2\n",
    "tower_of_hanoi(N, 1, 2, 3)"
   ]
  },
  {
   "cell_type": "markdown",
   "id": "5798ea59",
   "metadata": {},
   "source": [
    "**Question 7**\n",
    "\n",
    "Given a string **str**, the task is to print all the permutations of **str**. A **permutation** is an arrangement of all or part of a set of objects, with regard to the order of the arrangement. For instance, the words ‘bat’ and ‘tab’ represents two distinct permutation (or arrangements) of a similar three letter word."
   ]
  },
  {
   "cell_type": "code",
   "execution_count": 5,
   "id": "c1ed29cc",
   "metadata": {},
   "outputs": [
    {
     "name": "stdout",
     "output_type": "stream",
     "text": [
      "cd\n",
      "dc\n",
      "abb\n",
      "abb\n",
      "bab\n",
      "bba\n",
      "bba\n",
      "bab\n"
     ]
    }
   ],
   "source": [
    "def permute_string(string, left, right):\n",
    "    if left == right:\n",
    "        print(\"\".join(string))\n",
    "    else:\n",
    "        for i in range(left, right + 1):\n",
    "            string[left], string[i] = string[i], string[left]  # Swap\n",
    "            permute_string(string, left + 1, right)  # Recur for remaining substring\n",
    "            string[left], string[i] = string[i], string[left]  # Backtrack (undo the swap)\n",
    "\n",
    "def print_permutations(string):\n",
    "    n = len(string)\n",
    "    string = list(string)  # Convert string to a list of characters\n",
    "    permute_string(string, 0, n - 1)\n",
    "\n",
    "# Example\n",
    "print_permutations(\"cd\")\n",
    "print_permutations(\"abb\")"
   ]
  },
  {
   "cell_type": "markdown",
   "id": "a9a90200",
   "metadata": {},
   "source": [
    "**Question 8**\n",
    "\n",
    "Given a string, count total number of consonants in it. A consonant is an English alphabet character that is not vowel (a, e, i, o and u). Examples of constants are b, c, d, f, and g."
   ]
  },
  {
   "cell_type": "code",
   "execution_count": 4,
   "id": "d5156cb9",
   "metadata": {},
   "outputs": [
    {
     "name": "stdout",
     "output_type": "stream",
     "text": [
      "3\n",
      "12\n"
     ]
    }
   ],
   "source": [
    "def count_consonants(string):\n",
    "    vowels = {'a', 'e', 'i', 'o', 'u'}\n",
    "    count = 0\n",
    "\n",
    "    for char in string.lower():\n",
    "        if char.isalpha() and char not in vowels:\n",
    "            count += 1\n",
    "\n",
    "    return count\n",
    "\n",
    "# Example\n",
    "print(count_consonants(\"abc de\"))\n",
    "print(count_consonants(\"geeksforgeeks portal\"))"
   ]
  }
 ],
 "metadata": {
  "kernelspec": {
   "display_name": "Python 3 (ipykernel)",
   "language": "python",
   "name": "python3"
  },
  "language_info": {
   "codemirror_mode": {
    "name": "ipython",
    "version": 3
   },
   "file_extension": ".py",
   "mimetype": "text/x-python",
   "name": "python",
   "nbconvert_exporter": "python",
   "pygments_lexer": "ipython3",
   "version": "3.9.12"
  }
 },
 "nbformat": 4,
 "nbformat_minor": 5
}
