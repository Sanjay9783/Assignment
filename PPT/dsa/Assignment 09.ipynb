{
 "cells": [
  {
   "cell_type": "markdown",
   "id": "1f58768f",
   "metadata": {},
   "source": [
    "**Question 1**\n",
    "\n",
    "Given an integer `n`, return *`true` if it is a power of two. Otherwise, return `false`*.\n",
    "\n",
    "An integer `n` is a power of two, if there exists an integer `x` such that `n == 2x`."
   ]
  },
  {
   "cell_type": "code",
   "execution_count": 1,
   "id": "baffdf9b",
   "metadata": {},
   "outputs": [
    {
     "name": "stdout",
     "output_type": "stream",
     "text": [
      "True\n"
     ]
    }
   ],
   "source": [
    "def isPowerOfTwo(n):\n",
    "    if n <= 0:\n",
    "        return False\n",
    "    \n",
    "    # Count the number of set bits in n\n",
    "    count = bin(n).count('1')\n",
    "    \n",
    "    # If count is 1, n is a power of two\n",
    "    return count == 1\n",
    "\n",
    "# Example\n",
    "n = 16\n",
    "result = isPowerOfTwo(n)"
   ]
  },
  {
   "cell_type": "markdown",
   "id": "9badc86b",
   "metadata": {},
   "source": [
    "**Question 2**\n",
    "\n",
    "Given a number n, find the sum of the first natural numbers."
   ]
  },
  {
   "cell_type": "code",
   "execution_count": 3,
   "id": "111f60ea",
   "metadata": {},
   "outputs": [
    {
     "data": {
      "text/plain": [
       "15"
      ]
     },
     "execution_count": 3,
     "metadata": {},
     "output_type": "execute_result"
    }
   ],
   "source": [
    "def sumOfNaturalNumbers(n):\n",
    "    return n * (n + 1) // 2\n",
    "\n",
    "# Example\n",
    "n = 5\n",
    "sumOfNaturalNumbers(n)"
   ]
  },
  {
   "cell_type": "markdown",
   "id": "3dbb119e",
   "metadata": {},
   "source": [
    "**Question 3**\n",
    "\n",
    "Given a positive integer, N. Find the factorial of N."
   ]
  },
  {
   "cell_type": "code",
   "execution_count": 4,
   "id": "6bad8d9a",
   "metadata": {},
   "outputs": [
    {
     "data": {
      "text/plain": [
       "120"
      ]
     },
     "execution_count": 4,
     "metadata": {},
     "output_type": "execute_result"
    }
   ],
   "source": [
    "def factorial(N):\n",
    "    result = 1\n",
    "    for i in range(1, N+1):\n",
    "        result *= i\n",
    "    return result\n",
    "\n",
    "# Example\n",
    "N = 5\n",
    "factorial(N)"
   ]
  },
  {
   "cell_type": "markdown",
   "id": "20360ab9",
   "metadata": {},
   "source": [
    "**Question 4**\n",
    "\n",
    "Given a number N and a power P, the task is to find the exponent of this number raised to the given power, i.e. N^P."
   ]
  },
  {
   "cell_type": "code",
   "execution_count": 6,
   "id": "a4365496",
   "metadata": {},
   "outputs": [
    {
     "data": {
      "text/plain": [
       "25"
      ]
     },
     "execution_count": 6,
     "metadata": {},
     "output_type": "execute_result"
    }
   ],
   "source": [
    "def calculate_exponent(N, P):\n",
    "    result = N ** P\n",
    "    return result\n",
    "\n",
    "# Example\n",
    "N = 5\n",
    "P = 2\n",
    "calculate_exponent(N, P)"
   ]
  },
  {
   "cell_type": "markdown",
   "id": "aaa72f4e",
   "metadata": {},
   "source": [
    "**Question 5**\n",
    "\n",
    "Given an array of integers **arr**, the task is to find maximum element of that array using recursion."
   ]
  },
  {
   "cell_type": "code",
   "execution_count": 8,
   "id": "f6a04a8c",
   "metadata": {},
   "outputs": [
    {
     "data": {
      "text/plain": [
       "8"
      ]
     },
     "execution_count": 8,
     "metadata": {},
     "output_type": "execute_result"
    }
   ],
   "source": [
    "def find_max(arr, n):\n",
    "    # Base case: If there is only one element in the array, return it as the maximum\n",
    "    if n == 1:\n",
    "        return arr[0]\n",
    "\n",
    "    # Recursive case: Find the maximum of the remaining array elements\n",
    "    max_element = find_max(arr, n - 1)\n",
    "\n",
    "    # Compare the maximum of the remaining elements with the current element\n",
    "    if arr[n - 1] > max_element:\n",
    "        return arr[n - 1]\n",
    "    else:\n",
    "        return max_element\n",
    "\n",
    "# Example\n",
    "arr = [1, 4, 3, -5, -4, 8, 6]\n",
    "n = len(arr)\n",
    "find_max(arr, n)"
   ]
  },
  {
   "cell_type": "markdown",
   "id": "0b992a6a",
   "metadata": {},
   "source": [
    "**Question 6**\n",
    "\n",
    "Given first term (a), common difference (d) and a integer N of the Arithmetic Progression series, the task is to find Nth term of the series."
   ]
  },
  {
   "cell_type": "code",
   "execution_count": 9,
   "id": "e3003941",
   "metadata": {},
   "outputs": [
    {
     "data": {
      "text/plain": [
       "6"
      ]
     },
     "execution_count": 9,
     "metadata": {},
     "output_type": "execute_result"
    }
   ],
   "source": [
    "def find_nth_term(a, d, N):\n",
    "    nth_term = a + (N - 1) * d\n",
    "    return nth_term\n",
    "\n",
    "# Example\n",
    "a = 2\n",
    "d = 1\n",
    "N = 5\n",
    "find_nth_term(a, d, N)"
   ]
  },
  {
   "cell_type": "markdown",
   "id": "929f2910",
   "metadata": {},
   "source": [
    "**Question 7**\n",
    "\n",
    "Given a string S, the task is to write a program to print all permutations of a given string."
   ]
  },
  {
   "cell_type": "code",
   "execution_count": null,
   "id": "10dfa35f",
   "metadata": {},
   "outputs": [],
   "source": []
  },
  {
   "cell_type": "markdown",
   "id": "5e9bc21a",
   "metadata": {},
   "source": [
    "**Question 8**\n",
    "\n",
    "Given an array, find a product of all array elements."
   ]
  },
  {
   "cell_type": "code",
   "execution_count": 10,
   "id": "ee9bbac2",
   "metadata": {},
   "outputs": [
    {
     "data": {
      "text/plain": [
       "120"
      ]
     },
     "execution_count": 10,
     "metadata": {},
     "output_type": "execute_result"
    }
   ],
   "source": [
    "def array_product(arr):\n",
    "    product = 1\n",
    "    for num in arr:\n",
    "        product *= num\n",
    "    return product\n",
    "\n",
    "# Example\n",
    "arr = [1, 2, 3, 4, 5]\n",
    "array_product(arr)"
   ]
  }
 ],
 "metadata": {
  "kernelspec": {
   "display_name": "Python 3 (ipykernel)",
   "language": "python",
   "name": "python3"
  },
  "language_info": {
   "codemirror_mode": {
    "name": "ipython",
    "version": 3
   },
   "file_extension": ".py",
   "mimetype": "text/x-python",
   "name": "python",
   "nbconvert_exporter": "python",
   "pygments_lexer": "ipython3",
   "version": "3.9.12"
  }
 },
 "nbformat": 4,
 "nbformat_minor": 5
}
