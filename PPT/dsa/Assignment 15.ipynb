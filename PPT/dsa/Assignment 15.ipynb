{
 "cells": [
  {
   "cell_type": "markdown",
   "id": "745c8baa",
   "metadata": {},
   "source": [
    "**Question 1**\n",
    "\n",
    "Given an array **arr[ ]** of size **N** having elements, the task is to find the next greater element for each element of the array in order of their appearance in the array.Next greater element of an element in the array is the nearest element on the right which is greater than the current element.If there does not exist next greater of current element, then next greater element for current element is -1. For example, next greater of the last element is always -1."
   ]
  },
  {
   "cell_type": "code",
   "execution_count": 1,
   "id": "3a7c6e26",
   "metadata": {},
   "outputs": [
    {
     "name": "stdout",
     "output_type": "stream",
     "text": [
      "[3, 4, 4, -1]\n"
     ]
    }
   ],
   "source": [
    "def greater_elements(arr):\n",
    "    n = len(arr)\n",
    "    result = [-1] * n\n",
    "    stack = []\n",
    "\n",
    "    for i in range(n):\n",
    "        while stack and arr[i] > arr[stack[-1]]:\n",
    "            result[stack.pop()] = arr[i]\n",
    "        stack.append(i)\n",
    "\n",
    "    return result\n",
    "\n",
    "# Example\n",
    "arr = [1, 3, 2, 4]\n",
    "output = greater_elements(arr)\n",
    "print(output)"
   ]
  },
  {
   "cell_type": "markdown",
   "id": "6d7b40b9",
   "metadata": {},
   "source": [
    "**Question 2**\n",
    "\n",
    "Given an array **a** of integers of length **n**, find the nearest smaller number for every element such that the smaller element is on left side.If no small element present on the left print -1."
   ]
  },
  {
   "cell_type": "code",
   "execution_count": 3,
   "id": "b03dfdc7",
   "metadata": {},
   "outputs": [
    {
     "name": "stdout",
     "output_type": "stream",
     "text": [
      "[-1, 1, 1]\n"
     ]
    }
   ],
   "source": [
    "def smaller_elements(arr):\n",
    "    n = len(arr)\n",
    "    result = []\n",
    "\n",
    "    for i in range(n):\n",
    "        found = False\n",
    "        for j in range(i - 1, -1, -1):\n",
    "            if arr[j] < arr[i]:\n",
    "                result.append(arr[j])\n",
    "                found = True\n",
    "                break\n",
    "        \n",
    "        if not found:\n",
    "            result.append(-1)\n",
    "\n",
    "    return result\n",
    "\n",
    "# Example\n",
    "arr = [1, 6, 2]\n",
    "output = smaller_elements(arr)\n",
    "print(output)"
   ]
  },
  {
   "cell_type": "markdown",
   "id": "fa848235",
   "metadata": {},
   "source": [
    "**Question 3**\n",
    "\n",
    "Implement a Stack using two queues **q1** and **q2**."
   ]
  },
  {
   "cell_type": "code",
   "execution_count": 6,
   "id": "67f92403",
   "metadata": {},
   "outputs": [
    {
     "name": "stdout",
     "output_type": "stream",
     "text": [
      "3\n",
      "4\n"
     ]
    }
   ],
   "source": [
    "class Stack:\n",
    "    def __init__(self):\n",
    "        self.q1 = []\n",
    "        self.q2 = []\n",
    "\n",
    "    def push(self, val):\n",
    "        self.q1.append(val)\n",
    "\n",
    "    def pop(self):\n",
    "        if not self.q1:\n",
    "            return None\n",
    "\n",
    "        while len(self.q1) > 1:\n",
    "            self.q2.append(self.q1.pop(0))\n",
    "\n",
    "        popped = self.q1.pop(0)\n",
    "\n",
    "        self.q1, self.q2 = self.q2, self.q1\n",
    "\n",
    "        return popped\n",
    "\n",
    "    def top(self):\n",
    "        if not self.q1:\n",
    "            return None\n",
    "\n",
    "        while len(self.q1) > 1:\n",
    "            self.q2.append(self.q1.pop(0))\n",
    "\n",
    "        top = self.q1[0]\n",
    "\n",
    "        self.q2.append(self.q1.pop(0))\n",
    "\n",
    "        self.q1, self.q2 = self.q2, self.q1\n",
    "\n",
    "        return top\n",
    "\n",
    "    def is_empty(self):\n",
    "        return len(self.q1) == 0\n",
    "\n",
    "\n",
    "# Example\n",
    "stack = Stack()\n",
    "stack.push(2)\n",
    "stack.push(3)\n",
    "print(stack.pop())\n",
    "stack.push(4)\n",
    "print(stack.pop())"
   ]
  },
  {
   "cell_type": "markdown",
   "id": "d95c47eb",
   "metadata": {},
   "source": [
    "**Question 4**\n",
    "\n",
    "You are given a stack **St**. You have to reverse the stack using recursion."
   ]
  },
  {
   "cell_type": "code",
   "execution_count": 3,
   "id": "24bb9066",
   "metadata": {},
   "outputs": [
    {
     "name": "stdout",
     "output_type": "stream",
     "text": [
      "[6, 7, 1, 2, 3]\n"
     ]
    }
   ],
   "source": [
    "def reverseStack(stack):\n",
    "    if len(stack) > 0:\n",
    "       \n",
    "        top = stack.pop()\n",
    "\n",
    "        reverseStack(stack)\n",
    "\n",
    "        insertAtBottom(stack, top)\n",
    "\n",
    "def insertAtBottom(stack, item):\n",
    "    if len(stack) == 0:\n",
    "        stack.append(item)\n",
    "    else:\n",
    "\n",
    "        top = stack.pop()\n",
    "        insertAtBottom(stack, item)\n",
    "        stack.append(top)\n",
    "\n",
    "# Example\n",
    "stack = [3, 2, 1, 7, 6]\n",
    "reverseStack(stack)\n",
    "print(stack)\n"
   ]
  },
  {
   "cell_type": "markdown",
   "id": "45e02a4c",
   "metadata": {},
   "source": [
    "**Question 5**\n",
    "\n",
    "You are given a string **S**, the task is to reverse the string using stack."
   ]
  },
  {
   "cell_type": "code",
   "execution_count": 2,
   "id": "b2c266a1",
   "metadata": {},
   "outputs": [
    {
     "name": "stdout",
     "output_type": "stream",
     "text": [
      "skeeGrofskeeG\n"
     ]
    }
   ],
   "source": [
    "def reverseString(string):\n",
    "    stack = []\n",
    "    reversedString = \"\"\n",
    "\n",
    "    for char in string:\n",
    "        stack.append(char)\n",
    "\n",
    "    while stack:\n",
    "        reversedString += stack.pop()\n",
    "\n",
    "    return reversedString\n",
    "\n",
    "# Example\n",
    "inputString = \"GeeksforGeeks\"\n",
    "outputString = reverseString(inputString)\n",
    "print(outputString)"
   ]
  },
  {
   "cell_type": "markdown",
   "id": "c9267c33",
   "metadata": {},
   "source": [
    "**Question 6**\n",
    "\n",
    "Given string **S** representing a postfix expression, the task is to evaluate the expression and find the final value. Operators will only include the basic arithmetic operators like ***, /, + and -**."
   ]
  },
  {
   "cell_type": "code",
   "execution_count": 4,
   "id": "3eef8cb0",
   "metadata": {},
   "outputs": [
    {
     "name": "stdout",
     "output_type": "stream",
     "text": [
      "-4\n"
     ]
    }
   ],
   "source": [
    "def evaluatePostfix(S):\n",
    "    stack = []\n",
    "    operators = set(['+', '-', '*', '/'])\n",
    "\n",
    "    for char in S:\n",
    "        if char.isdigit():\n",
    "            stack.append(int(char))\n",
    "        elif char in operators:\n",
    "            operand2 = stack.pop()\n",
    "            operand1 = stack.pop()\n",
    "            result = performOperation(operand1, operand2, char)\n",
    "            stack.append(result)\n",
    "\n",
    "    return stack.pop()\n",
    "\n",
    "def performOperation(operand1, operand2, operator):\n",
    "    if operator == '+':\n",
    "        return operand1 + operand2\n",
    "    elif operator == '-':\n",
    "        return operand1 - operand2\n",
    "    elif operator == '*':\n",
    "        return operand1 * operand2\n",
    "    elif operator == '/':\n",
    "        return operand1 / operand2\n",
    "\n",
    "# Example\n",
    "S = \"231*+9-\"\n",
    "result = evaluatePostfix(S)\n",
    "print(result)"
   ]
  },
  {
   "cell_type": "markdown",
   "id": "c3d2488f",
   "metadata": {},
   "source": [
    "**Question 7**\n",
    "\n",
    "Design a stack that supports push, pop, top, and retrieving the minimum element in constant time.\n",
    "\n",
    "Implement the `MinStack` class:\n",
    "\n",
    "- `MinStack()` initializes the stack object.\n",
    "- `void push(int val)` pushes the element `val` onto the stack.\n",
    "- `void pop()` removes the element on the top of the stack.\n",
    "- `int top()` gets the top element of the stack.\n",
    "- `int getMin()` retrieves the minimum element in the stack.\n",
    "\n",
    "You must implement a solution with `O(1)` time complexity for each function."
   ]
  },
  {
   "cell_type": "code",
   "execution_count": 5,
   "id": "8c8b2b25",
   "metadata": {},
   "outputs": [
    {
     "name": "stdout",
     "output_type": "stream",
     "text": [
      "-3\n",
      "0\n",
      "-2\n"
     ]
    }
   ],
   "source": [
    "class MinStack:\n",
    "    def __init__(self):\n",
    "        self.stack = []\n",
    "        self.min_stack = []\n",
    "\n",
    "    def push(self, val):\n",
    "        self.stack.append(val)\n",
    "        if not self.min_stack or val <= self.min_stack[-1]:\n",
    "            self.min_stack.append(val)\n",
    "\n",
    "    def pop(self):\n",
    "        if self.stack:\n",
    "            popped = self.stack.pop()\n",
    "            if popped == self.min_stack[-1]:\n",
    "                self.min_stack.pop()\n",
    "\n",
    "    def top(self):\n",
    "        if self.stack:\n",
    "            return self.stack[-1]\n",
    "\n",
    "    def getMin(self):\n",
    "        if self.min_stack:\n",
    "            return self.min_stack[-1]\n",
    "\n",
    "\n",
    "# Example\n",
    "minStack = MinStack()\n",
    "minStack.push(-2)\n",
    "minStack.push(0)\n",
    "minStack.push(-3)\n",
    "print(minStack.getMin())\n",
    "minStack.pop()\n",
    "print(minStack.top())\n",
    "print(minStack.getMin())"
   ]
  },
  {
   "cell_type": "markdown",
   "id": "f4d15291",
   "metadata": {},
   "source": [
    "**Question 8**\n",
    "\n",
    "Given `n` non-negative integers representing an elevation map where the width of each bar is `1`, compute how much water it can trap after raining."
   ]
  },
  {
   "cell_type": "code",
   "execution_count": null,
   "id": "721ecc72",
   "metadata": {},
   "outputs": [],
   "source": []
  }
 ],
 "metadata": {
  "kernelspec": {
   "display_name": "Python 3 (ipykernel)",
   "language": "python",
   "name": "python3"
  },
  "language_info": {
   "codemirror_mode": {
    "name": "ipython",
    "version": 3
   },
   "file_extension": ".py",
   "mimetype": "text/x-python",
   "name": "python",
   "nbconvert_exporter": "python",
   "pygments_lexer": "ipython3",
   "version": "3.9.12"
  }
 },
 "nbformat": 4,
 "nbformat_minor": 5
}
