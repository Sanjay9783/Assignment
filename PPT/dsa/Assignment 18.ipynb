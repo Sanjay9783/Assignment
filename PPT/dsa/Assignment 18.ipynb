{
 "cells": [
  {
   "cell_type": "markdown",
   "id": "38465a86",
   "metadata": {},
   "source": [
    "1. **Merge Intervals**\n",
    "\n",
    "Given an array of `intervals` where `intervals[i] = [starti, endi]`, merge all overlapping intervals, and return *an array of the non-overlapping intervals that cover all the intervals in the input*.\n",
    "\n",
    "Input: intervals = [[1,3],[2,6],[8,10],[15,18]]\n",
    "Output: [[1,6],[8,10],[15,18]]\n",
    "Explanation: Since intervals [1,3] and [2,6] overlap, merge them into [1,6].\n"
   ]
  },
  {
   "cell_type": "code",
   "execution_count": 1,
   "id": "70118c71",
   "metadata": {},
   "outputs": [
    {
     "name": "stdout",
     "output_type": "stream",
     "text": [
      "[[1, 6], [8, 10], [15, 18]]\n"
     ]
    }
   ],
   "source": [
    "def merge(intervals):\n",
    "    intervals.sort(key=lambda x: x[0])\n",
    "    merged = []  \n",
    "\n",
    "    for interval in intervals:\n",
    "        if not merged or interval[0] > merged[-1][1]: \n",
    "            merged.append(interval)\n",
    "        else:\n",
    "            merged[-1][1] = max(merged[-1][1], interval[1]) \n",
    "\n",
    "    return merged\n",
    "\n",
    "\n",
    "intervals = [[1,3],[2,6],[8,10],[15,18]]\n",
    "result = merge(intervals)\n",
    "print(result)"
   ]
  },
  {
   "cell_type": "markdown",
   "id": "5472542b",
   "metadata": {},
   "source": [
    "2. **Sort Colors**\n",
    "\n",
    "Given an array `nums` with `n` objects colored red, white, or blue, sort them **[in-place](https://en.wikipedia.org/wiki/In-place_algorithm)** so that objects of the same color are adjacent, with the colors in the order red, white, and blue.\n",
    "\n",
    "We will use the integers `0`, `1`, and `2` to represent the color red, white, and blue, respectively.\n",
    "\n",
    "You must solve this problem without using the library's sort function.\n",
    "\n",
    "\n",
    "Input: nums = [2,0,2,1,1,0]\n",
    "Output: [0,0,1,1,2,2]\n"
   ]
  },
  {
   "cell_type": "code",
   "execution_count": 2,
   "id": "50a3a077",
   "metadata": {},
   "outputs": [
    {
     "name": "stdout",
     "output_type": "stream",
     "text": [
      "[0, 0, 1, 1, 2, 2]\n"
     ]
    }
   ],
   "source": [
    "def sortColors(nums):\n",
    "    low = 0\n",
    "    mid = 0\n",
    "    high = len(nums) - 1\n",
    "\n",
    "    while mid <= high:\n",
    "        if nums[mid] == 0:\n",
    "            nums[low], nums[mid] = nums[mid], nums[low]\n",
    "            low += 1\n",
    "            mid += 1\n",
    "        elif nums[mid] == 1:\n",
    "            mid += 1\n",
    "        else:\n",
    "            nums[mid], nums[high] = nums[high], nums[mid]\n",
    "            high -= 1\n",
    "\n",
    "    return nums\n",
    "\n",
    "\n",
    "nums = [2, 0, 2, 1, 1, 0]\n",
    "result = sortColors(nums)\n",
    "print(result)  # Output: [0, 0, 1, 1, 2, 2]\n"
   ]
  },
  {
   "cell_type": "markdown",
   "id": "55dba40f",
   "metadata": {},
   "source": [
    "3. **First Bad Version Solution**\n",
    "\n",
    "You are a product manager and currently leading a team to develop a new product. Unfortunately, the latest version of your product fails the quality check. Since each version is developed based on the previous version, all the versions after a bad version are also bad.\n",
    "\n",
    "Suppose you have `n` versions `[1, 2, ..., n]` and you want to find out the first bad one, which causes all the following ones to be bad.\n",
    "\n",
    "You are given an API `bool isBadVersion(version)` which returns whether `version` is bad. Implement a function to find the first bad version. You should minimize the number of calls to the API."
   ]
  },
  {
   "cell_type": "code",
   "execution_count": 4,
   "id": "9abfb8fa",
   "metadata": {},
   "outputs": [
    {
     "name": "stdout",
     "output_type": "stream",
     "text": [
      "4\n"
     ]
    }
   ],
   "source": [
    "def firstBadVersion(n):\n",
    "    left = 1\n",
    "    right = n\n",
    "\n",
    "    while left < right:\n",
    "        mid = left + (right - left) // 2\n",
    "        if isBadVersion(mid):\n",
    "            right = mid\n",
    "        else:\n",
    "            left = mid + 1\n",
    "\n",
    "    return left\n",
    "\n",
    "\n",
    "def isBadVersion(version):\n",
    " \n",
    "    return version >= bad\n",
    "\n",
    "n = 5\n",
    "bad = 4\n",
    "\n",
    "result = firstBadVersion(n)\n",
    "print(result)"
   ]
  },
  {
   "cell_type": "markdown",
   "id": "4a859223",
   "metadata": {},
   "source": [
    "4. **Maximum Gap**\n",
    "\n",
    "Given an integer array `nums`, return *the maximum difference between two successive elements in its sorted form*. If the array contains less than two elements, return `0`.\n",
    "\n",
    "You must write an algorithm that runs in linear time and uses linear extra space."
   ]
  },
  {
   "cell_type": "code",
   "execution_count": 7,
   "id": "f50b51eb",
   "metadata": {},
   "outputs": [
    {
     "name": "stdout",
     "output_type": "stream",
     "text": [
      "3\n"
     ]
    }
   ],
   "source": [
    "def maximumGap(nums):\n",
    "    if len(nums) < 2:\n",
    "        return 0\n",
    "\n",
    "    max_num = max(nums)\n",
    "    exp = 1\n",
    "    temp = [0] * len(nums)\n",
    "\n",
    "    while max_num // exp > 0:\n",
    "        count = [0] * 10\n",
    "\n",
    "        for num in nums:\n",
    "            count[(num // exp) % 10] += 1\n",
    "\n",
    "        for i in range(1, 10):\n",
    "            count[i] += count[i - 1]\n",
    "\n",
    "        for i in range(len(nums) - 1, -1, -1):\n",
    "            digit = (nums[i] // exp) % 10\n",
    "            temp[count[digit] - 1] = nums[i]\n",
    "            count[digit] -= 1\n",
    "\n",
    "        nums[:] = temp[:]\n",
    "        exp *= 10\n",
    "\n",
    "    max_gap = 0\n",
    "    for i in range(1, len(nums)):\n",
    "        max_gap = max(max_gap, nums[i] - nums[i - 1])\n",
    "\n",
    "    return max_gap\n",
    "\n",
    "\n",
    "nums = [3, 6, 9, 1]\n",
    "result = maximumGap(nums)\n",
    "print(result)"
   ]
  },
  {
   "cell_type": "markdown",
   "id": "2cdaa52e",
   "metadata": {},
   "source": [
    "5. **Contains Duplicate**\n",
    "\n",
    "Given an integer array `nums`, return `true` if any value appears **at least twice** in the array, and return `false` if every element is distinct."
   ]
  },
  {
   "cell_type": "code",
   "execution_count": 8,
   "id": "9da315b1",
   "metadata": {},
   "outputs": [
    {
     "name": "stdout",
     "output_type": "stream",
     "text": [
      "True\n"
     ]
    }
   ],
   "source": [
    "def containsDuplicate(nums):\n",
    "    num_set = set()\n",
    "\n",
    "    for num in nums:\n",
    "        if num in num_set:\n",
    "            return True\n",
    "        num_set.add(num)\n",
    "\n",
    "    return False\n",
    "\n",
    "\n",
    "nums = [1, 2, 3, 1]\n",
    "result = containsDuplicate(nums)\n",
    "print(result)"
   ]
  },
  {
   "cell_type": "markdown",
   "id": "eaafd0b4",
   "metadata": {},
   "source": [
    "6. **Minimum Number of Arrows to Burst Balloons**\n",
    "\n",
    "There are some spherical balloons taped onto a flat wall that represents the XY-plane. The balloons are represented as a 2D integer array `points` where `points[i] = [xstart, xend]` denotes a balloon whose **horizontal diameter** stretches between `xstart` and `xend`. You do not know the exact y-coordinates of the balloons.\n",
    "\n",
    "Arrows can be shot up **directly vertically** (in the positive y-direction) from different points along the x-axis. A balloon with `xstart` and `xend` is **burst** by an arrow shot at `x` if `xstart <= x <= xend`. There is **no limit** to the number of arrows that can be shot. A shot arrow keeps traveling up infinitely, bursting any balloons in its path.\n",
    "\n",
    "Given the array `points`, return *the **minimum** number of arrows that must be shot to burst all balloons*."
   ]
  },
  {
   "cell_type": "code",
   "execution_count": 9,
   "id": "fe00969d",
   "metadata": {},
   "outputs": [
    {
     "name": "stdout",
     "output_type": "stream",
     "text": [
      "2\n"
     ]
    }
   ],
   "source": [
    "def MinArrowShots(points):\n",
    "    if not points:\n",
    "        return 0\n",
    "\n",
    "    points.sort(key=lambda x: x[1])\n",
    "\n",
    "    arrows = 1\n",
    "    end = points[0][1]\n",
    "\n",
    "    for i in range(1, len(points)):\n",
    "        if points[i][0] > end:\n",
    "            arrows += 1\n",
    "            end = points[i][1]\n",
    "\n",
    "    return arrows\n",
    "\n",
    "\n",
    "points = [[10, 16], [2, 8], [1, 6], [7, 12]]\n",
    "result = MinArrowShots(points)\n",
    "print(result)"
   ]
  },
  {
   "cell_type": "markdown",
   "id": "ae34b786",
   "metadata": {},
   "source": [
    "7. **Longest Increasing Subsequence**\n",
    "\n",
    "Given an integer array `nums`, return *the length of the longest **strictly increasing*** , ***subsequence***"
   ]
  },
  {
   "cell_type": "code",
   "execution_count": 10,
   "id": "490acefb",
   "metadata": {},
   "outputs": [
    {
     "name": "stdout",
     "output_type": "stream",
     "text": [
      "4\n"
     ]
    }
   ],
   "source": [
    "def lengthOfLIS(nums):\n",
    "    if not nums:\n",
    "        return 0\n",
    "\n",
    "    n = len(nums)\n",
    "    dp = [1] * n\n",
    "\n",
    "    for i in range(1, n):\n",
    "        for j in range(i):\n",
    "            if nums[i] > nums[j]:\n",
    "                dp[i] = max(dp[i], dp[j] + 1)\n",
    "\n",
    "    return max(dp)\n",
    "\n",
    "\n",
    "nums = [10, 9, 2, 5, 3, 7, 101, 18]\n",
    "result = lengthOfLIS(nums)\n",
    "print(result)"
   ]
  },
  {
   "cell_type": "markdown",
   "id": "220ea8e3",
   "metadata": {},
   "source": [
    "8. **132 Pattern**\n",
    "\n",
    "Given an array of `n` integers `nums`, a **132 pattern** is a subsequence of three integers `nums[i]`, `nums[j]` and `nums[k]` such that `i < j < k` and `nums[i] < nums[k] < nums[j]`.\n",
    "\n",
    "Return `true` *if there is a **132 pattern** in* `nums`*, otherwise, return* `false`*.*"
   ]
  },
  {
   "cell_type": "code",
   "execution_count": 11,
   "id": "f685dcf9",
   "metadata": {},
   "outputs": [
    {
     "name": "stdout",
     "output_type": "stream",
     "text": [
      "False\n"
     ]
    }
   ],
   "source": [
    "def find132pattern(nums):\n",
    "    stack = []\n",
    "    third = float('-inf')\n",
    "\n",
    "    for num in reversed(nums):\n",
    "        if num < third:\n",
    "            return True\n",
    "\n",
    "        while stack and stack[-1] < num:\n",
    "            third = stack.pop()\n",
    "\n",
    "        stack.append(num)\n",
    "\n",
    "    return False\n",
    "\n",
    "\n",
    "nums = [1, 2, 3, 4]\n",
    "result = find132pattern(nums)\n",
    "print(result)"
   ]
  }
 ],
 "metadata": {
  "kernelspec": {
   "display_name": "Python 3 (ipykernel)",
   "language": "python",
   "name": "python3"
  },
  "language_info": {
   "codemirror_mode": {
    "name": "ipython",
    "version": 3
   },
   "file_extension": ".py",
   "mimetype": "text/x-python",
   "name": "python",
   "nbconvert_exporter": "python",
   "pygments_lexer": "ipython3",
   "version": "3.9.12"
  }
 },
 "nbformat": 4,
 "nbformat_minor": 5
}
