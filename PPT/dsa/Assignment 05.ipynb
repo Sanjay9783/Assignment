{
 "cells": [
  {
   "cell_type": "markdown",
   "id": "943f071b",
   "metadata": {},
   "source": [
    "#### Question 1\n",
    "\n",
    "Convert 1D Array Into 2D Array\n",
    "\n",
    "You are given a **0-indexed** 1-dimensional (1D) integer array original, and two integers, m and n. You are tasked with creating a 2-dimensional (2D) array with  m rows and n columns using **all** the elements from original.\n",
    "\n",
    "The elements from indices 0 to n - 1 (**inclusive**) of original should form the first row of the constructed 2D array, the elements from indices n to 2 * n - 1 (**inclusive**) should form the second row of the constructed 2D array, and so on.\n",
    "\n",
    "Return *an* m x n *2D array constructed according to the above procedure, or an empty 2D array if it is impossible*.\n",
    "\n",
    "</aside>"
   ]
  },
  {
   "cell_type": "code",
   "execution_count": 1,
   "id": "8079e13d",
   "metadata": {},
   "outputs": [
    {
     "data": {
      "text/plain": [
       "[[1, 2], [3, 4]]"
      ]
     },
     "execution_count": 1,
     "metadata": {},
     "output_type": "execute_result"
    }
   ],
   "source": [
    "def construct_2DArray(original, m, n):\n",
    "    if len(original) != m * n:\n",
    "        return []\n",
    "\n",
    "    result = []\n",
    "    for i in range(0, len(original), n):\n",
    "        result.append(original[i:i+n])\n",
    "\n",
    "    return result\n",
    "\n",
    "# Example\n",
    "original = [1, 2, 3, 4]\n",
    "m = 2\n",
    "n = 2\n",
    "construct_2DArray(original, m, n)"
   ]
  },
  {
   "cell_type": "markdown",
   "id": "313a3a14",
   "metadata": {},
   "source": [
    "**Question 2**\n",
    "\n",
    "You have n coins and you want to build a staircase with these coins. The staircase consists of k rows where the ith row has exactly i coins. The last row of the staircase **may be** incomplete.\n",
    "\n",
    "Given the integer n, return *the number of **complete rows** of the staircase you will build*."
   ]
  },
  {
   "cell_type": "markdown",
   "id": "8cafa877",
   "metadata": {},
   "source": [
    "**Question 3**\n",
    "\n",
    "Given an integer array nums sorted in **non-decreasing** order, return *an array of **the squares of each number** sorted in non-decreasing order*."
   ]
  },
  {
   "cell_type": "code",
   "execution_count": 3,
   "id": "ad427a98",
   "metadata": {},
   "outputs": [
    {
     "data": {
      "text/plain": [
       "[0, 1, 9, 16, 100]"
      ]
     },
     "execution_count": 3,
     "metadata": {},
     "output_type": "execute_result"
    }
   ],
   "source": [
    "def sortedSquares(nums):\n",
    "    result = []\n",
    "    for num in nums:\n",
    "        result.append(num * num)\n",
    "    result.sort()\n",
    "    return result\n",
    "\n",
    "# Example\n",
    "nums = [-4, -1, 0, 3, 10]\n",
    "sortedSquares(nums)"
   ]
  },
  {
   "cell_type": "markdown",
   "id": "2f6a20e4",
   "metadata": {},
   "source": [
    "**Question 4**\n",
    "\n",
    "Given two **0-indexed** integer arrays nums1 and nums2, return *a list* answer *of size* 2 *where:*\n",
    "\n",
    "- answer[0] *is a list of all **distinct** integers in* nums1 *which are **not** present in* nums2*.*\n",
    "- answer[1] *is a list of all **distinct** integers in* nums2 *which are **not** present in* nums1.\n",
    "\n",
    "**Note** that the integers in the lists may be returned in **any** order."
   ]
  },
  {
   "cell_type": "code",
   "execution_count": 4,
   "id": "f87fd657",
   "metadata": {},
   "outputs": [
    {
     "data": {
      "text/plain": [
       "[[1, 3], [4, 6]]"
      ]
     },
     "execution_count": 4,
     "metadata": {},
     "output_type": "execute_result"
    }
   ],
   "source": [
    "def findDisappearedNumbers(nums1, nums2):\n",
    "    set1 = set(nums1)\n",
    "    set2 = set(nums2)\n",
    "    distinct_nums1 = list(set1 - set2)\n",
    "    distinct_nums2 = list(set2 - set1)\n",
    "    return [distinct_nums1, distinct_nums2]\n",
    "\n",
    "# Example\n",
    "nums1 = [1, 2, 3]\n",
    "nums2 = [2, 4, 6]\n",
    "findDisappearedNumbers(nums1, nums2)"
   ]
  },
  {
   "cell_type": "markdown",
   "id": "a6bb6b85",
   "metadata": {},
   "source": [
    "**Question 5**\n",
    "\n",
    "Given two integer arrays arr1 and arr2, and the integer d, *return the distance value between the two arrays*.\n",
    "\n",
    "The distance value is defined as the number of elements arr1[i] such that there is not any element arr2[j] where |arr1[i]-arr2[j]| <= d."
   ]
  },
  {
   "cell_type": "code",
   "execution_count": 5,
   "id": "0a85cffd",
   "metadata": {},
   "outputs": [
    {
     "data": {
      "text/plain": [
       "2"
      ]
     },
     "execution_count": 5,
     "metadata": {},
     "output_type": "execute_result"
    }
   ],
   "source": [
    "def distanceValue(arr1, arr2, d):\n",
    "    distance = 0\n",
    "    for num1 in arr1:\n",
    "        for num2 in arr2:\n",
    "            if abs(num1 - num2) <= d:\n",
    "                break\n",
    "        else:\n",
    "            distance += 1\n",
    "    return distance\n",
    "\n",
    "# Example\n",
    "arr1 = [4, 5, 8]\n",
    "arr2 = [10, 9, 1, 8]\n",
    "d = 2\n",
    "distanceValue(arr1, arr2, d)"
   ]
  },
  {
   "cell_type": "markdown",
   "id": "43589ab7",
   "metadata": {},
   "source": [
    "**Question 6**\n",
    "\n",
    "Given an integer array nums of length n where all the integers of nums are in the range [1, n] and each integer appears **once** or **twice**, return *an array of all the integers that appears **twice***.\n",
    "\n",
    "You must write an algorithm that runs in O(n) time and uses only constant extra space."
   ]
  },
  {
   "cell_type": "code",
   "execution_count": 6,
   "id": "e233d860",
   "metadata": {},
   "outputs": [
    {
     "data": {
      "text/plain": [
       "[2, 3]"
      ]
     },
     "execution_count": 6,
     "metadata": {},
     "output_type": "execute_result"
    }
   ],
   "source": [
    "def findDuplicates(nums):\n",
    "    y=set(nums)\n",
    "    d={}\n",
    "    result=[]\n",
    "    for i in y:\n",
    "        d[i]=nums.count(i)\n",
    "    for i, j in d.items():\n",
    "        if j==2:\n",
    "            result.append(i)\n",
    "    return result\n",
    "\n",
    "# Example\n",
    "nums = [4, 3, 2, 7, 8, 2, 3, 1]\n",
    "findDuplicates(nums)"
   ]
  },
  {
   "cell_type": "markdown",
   "id": "f58576eb",
   "metadata": {},
   "source": [
    "**Question 7**\n",
    "\n",
    "Suppose an array of length n sorted in ascending order is **rotated** between 1 and n times. For example, the array nums = [0,1,2,4,5,6,7] might become:\n",
    "\n",
    "- [4,5,6,7,0,1,2] if it was rotated 4 times.\n",
    "- [0,1,2,4,5,6,7] if it was rotated 7 times.\n",
    "\n",
    "Notice that **rotating** an array [a[0], a[1], a[2], ..., a[n-1]] 1 time results in the array [a[n-1], a[0], a[1], a[2], ..., a[n-2]].\n",
    "\n",
    "Given the sorted rotated array nums of **unique** elements, return *the minimum element of this array*.\n",
    "\n",
    "You must write an algorithm that runs in O(log n) time.\n",
    "\n",
    "**Example 1:**\n",
    "\n",
    "**Input:** nums = [3,4,5,1,2]\n",
    "\n",
    "**Output:** 1\n",
    "\n",
    "**Explanation:**\n",
    "\n",
    "The original array was [1,2,3,4,5] rotated 3 times."
   ]
  },
  {
   "cell_type": "code",
   "execution_count": 7,
   "id": "1042f4b7",
   "metadata": {},
   "outputs": [
    {
     "data": {
      "text/plain": [
       "1"
      ]
     },
     "execution_count": 7,
     "metadata": {},
     "output_type": "execute_result"
    }
   ],
   "source": [
    "def findMin(nums):\n",
    "    left = 0\n",
    "    right = len(nums) - 1\n",
    "\n",
    "    while left < right:\n",
    "        mid = left + (right - left) // 2\n",
    "\n",
    "      \n",
    "        if nums[mid] > nums[right]:\n",
    "            left = mid + 1\n",
    "        else:\n",
    "            right = mid\n",
    "\n",
    "    return nums[left]\n",
    "\n",
    "# Example\n",
    "nums = [3, 4, 5, 1, 2]\n",
    "findMin(nums)"
   ]
  },
  {
   "cell_type": "markdown",
   "id": "08e0ac1f",
   "metadata": {},
   "source": [
    "**Question 8**\n",
    "\n",
    "An integer array original is transformed into a **doubled** array changed by appending **twice the value** of every element in original, and then randomly **shuffling** the resulting array.\n",
    "\n",
    "Given an array changed, return original *if* changed *is a **doubled** array. If* changed *is not a **doubled** array, return an empty array. The elements in* original *may be returned in **any** order*.\n",
    "\n",
    "**Example 1:**\n",
    "\n",
    "**Input:** changed = [1,3,4,2,6,8]\n",
    "\n",
    "**Output:** [1,3,4]\n",
    "\n",
    "**Explanation:** One possible original array could be [1,3,4]:\n",
    "\n",
    "- Twice the value of 1 is 1 * 2 = 2.\n",
    "- Twice the value of 3 is 3 * 2 = 6.\n",
    "- Twice the value of 4 is 4 * 2 = 8.\n",
    "\n",
    "Other original arrays could be [4,3,1] or [3,1,4]."
   ]
  },
  {
   "cell_type": "code",
   "execution_count": 8,
   "id": "dd757600",
   "metadata": {},
   "outputs": [
    {
     "data": {
      "text/plain": [
       "[1, 3, 4]"
      ]
     },
     "execution_count": 8,
     "metadata": {},
     "output_type": "execute_result"
    }
   ],
   "source": [
    "def findOriginalArray(nums):\n",
    "    nums.sort()\n",
    "    for i in nums:\n",
    "        if i*2 in nums:\n",
    "            nums.remove(i*2)\n",
    "            \n",
    "    return nums\n",
    "\n",
    "# Example\n",
    "nums=[1,3,4,2,6,8]\n",
    "findOriginalArray(nums)"
   ]
  }
 ],
 "metadata": {
  "kernelspec": {
   "display_name": "Python 3 (ipykernel)",
   "language": "python",
   "name": "python3"
  },
  "language_info": {
   "codemirror_mode": {
    "name": "ipython",
    "version": 3
   },
   "file_extension": ".py",
   "mimetype": "text/x-python",
   "name": "python",
   "nbconvert_exporter": "python",
   "pygments_lexer": "ipython3",
   "version": "3.9.12"
  }
 },
 "nbformat": 4,
 "nbformat_minor": 5
}
