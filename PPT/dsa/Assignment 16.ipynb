{
 "cells": [
  {
   "cell_type": "markdown",
   "id": "b71d9653",
   "metadata": {},
   "source": [
    "**Question 1**\n",
    "\n",
    "Given an array, for each element find the value of the nearest element to the right which is having a frequency greater than that of the current element. If there does not exist an answer for a position, then make the value ‘-1’."
   ]
  },
  {
   "cell_type": "code",
   "execution_count": 7,
   "id": "5fc2ba0b",
   "metadata": {},
   "outputs": [
    {
     "name": "stdout",
     "output_type": "stream",
     "text": [
      "[-1, -1, -1, -1, -1, -1, -1]\n"
     ]
    }
   ],
   "source": [
    "def greater_frequency(arr):\n",
    "    frequency = {}\n",
    "    result = []\n",
    "\n",
    "    for num in arr[::-1]:\n",
    "        frequency[num] = frequency.get(num, 0) + 1\n",
    "\n",
    "    for num in arr:\n",
    "        freq = frequency[num]\n",
    "        next_greater_freq = -1\n",
    "\n",
    "        for i in range(num + 1, len(arr) + 1):\n",
    "            if frequency.get(i, 0) > freq:\n",
    "                next_greater_freq = i\n",
    "                break\n",
    "\n",
    "        result.append(next_greater_freq)\n",
    "\n",
    "    return result[::-1]\n",
    "\n",
    "# Example usage\n",
    "arr = [1, 1, 2, 3, 4, 2, 1]\n",
    "output = greater_frequency(arr)\n",
    "print(output)"
   ]
  },
  {
   "cell_type": "markdown",
   "id": "62613a9f",
   "metadata": {},
   "source": [
    "**Question 2**\n",
    "\n",
    "Given a stack of integers, sort it in ascending order using another temporary stack."
   ]
  },
  {
   "cell_type": "code",
   "execution_count": 6,
   "id": "850d6363",
   "metadata": {},
   "outputs": [
    {
     "name": "stdout",
     "output_type": "stream",
     "text": [
      "[98, 92, 34, 31, 23, 3]\n"
     ]
    }
   ],
   "source": [
    "def sort(stack):\n",
    "    temp_stack = []\n",
    "\n",
    "    while stack:\n",
    "        current = stack.pop()\n",
    "\n",
    "        while temp_stack and temp_stack[-1] > current:\n",
    "            stack.append(temp_stack.pop())\n",
    "\n",
    "        temp_stack.append(current)\n",
    "\n",
    "    for element in temp_stack[::-1]:\n",
    "        stack.append(element)\n",
    "\n",
    "    return stack\n",
    "\n",
    "# Example\n",
    "stack = [34, 3, 31, 98, 92, 23]\n",
    "sorted_stack = sort(stack)\n",
    "print(sorted_stack)"
   ]
  },
  {
   "cell_type": "markdown",
   "id": "82f42fcf",
   "metadata": {},
   "source": [
    "**Question 3**\n",
    "\n",
    "Given a stack with **push()**, **pop()**, and **empty()** operations, The task is to delete the **middle** element ****of it without using any additional data structure."
   ]
  },
  {
   "cell_type": "code",
   "execution_count": 1,
   "id": "2d91413f",
   "metadata": {},
   "outputs": [
    {
     "name": "stdout",
     "output_type": "stream",
     "text": [
      "[1, 2, 4, 5]\n"
     ]
    }
   ],
   "source": [
    "def pop_middle(stack):\n",
    "    if len(stack) == 0:\n",
    "        return stack\n",
    "\n",
    "    size = len(stack)\n",
    "    middle = size // 2\n",
    "\n",
    "    temp_stack = []\n",
    "\n",
    "    for _ in range(middle):\n",
    "        temp_stack.append(stack.pop())\n",
    "\n",
    "    stack.pop()\n",
    "\n",
    "    while temp_stack:\n",
    "        stack.append(temp_stack.pop())\n",
    "\n",
    "    return stack\n",
    "\n",
    "# Example\n",
    "stack = [1, 2, 3, 4, 5]\n",
    "result = pop_middle(stack)\n",
    "print(result)"
   ]
  },
  {
   "cell_type": "markdown",
   "id": "1e29f1ac",
   "metadata": {},
   "source": [
    "**Question 4**\n",
    "\n",
    "Given a Queue consisting of first **n** natural numbers (in random order). The task is to check whether the given Queue elements can be arranged in increasing order in another Queue using a stack. The operation allowed are:\n",
    "\n",
    "1. Push and pop elements from the stack\n",
    "2. Pop (Or Dequeue) from the given Queue.\n",
    "3. Push (Or Enqueue) in the another Queue."
   ]
  },
  {
   "cell_type": "code",
   "execution_count": 10,
   "id": "ccbfd0bd",
   "metadata": {},
   "outputs": [
    {
     "name": "stdout",
     "output_type": "stream",
     "text": [
      "No\n"
     ]
    }
   ],
   "source": [
    "def queue_arrangement(queue):\n",
    "    stack = []\n",
    "    second_queue = []\n",
    "\n",
    "    for num in queue:\n",
    "        if stack and stack[-1] == num:\n",
    "            stack.pop()\n",
    "            second_queue.append(num)\n",
    "        else:\n",
    "            stack.append(num)\n",
    "\n",
    "    second_queue.extend(queue)\n",
    "\n",
    "    return \"Yes\" if not stack else \"No\"\n",
    "\n",
    "\n",
    "queue = [5, 1, 2, 6, 3, 4]\n",
    "output = queue_arrangement(queue)\n",
    "print(output)"
   ]
  },
  {
   "cell_type": "markdown",
   "id": "c801d237",
   "metadata": {},
   "source": [
    "**Question 5**\n",
    "\n",
    "Given a number , write a program to reverse this number using stack."
   ]
  },
  {
   "cell_type": "code",
   "execution_count": 12,
   "id": "47a9b30c",
   "metadata": {},
   "outputs": [
    {
     "name": "stdout",
     "output_type": "stream",
     "text": [
      "563\n"
     ]
    }
   ],
   "source": [
    "def reverse_number(num):\n",
    "    stack = []\n",
    "    \n",
    "    while num != 0:\n",
    "        stack.append(num % 10)\n",
    "        num //= 10\n",
    "\n",
    "    result = sum(digit * 10 ** i for i, digit in enumerate(stack[::-1]))\n",
    "    return result\n",
    "\n",
    "# Example\n",
    "num = 365\n",
    "output = reverse_number(num)\n",
    "print(output)"
   ]
  },
  {
   "cell_type": "markdown",
   "id": "d77dcc5d",
   "metadata": {},
   "source": [
    "**Question 6**\n",
    "\n",
    "Given an integer k and a **[queue]** of integers, The task is to reverse the order of the first **k** elements of the queue, leaving the other elements in the same relative order.\n",
    "\n",
    "Only following standard operations are allowed on queue.\n",
    "\n",
    "- **enqueue(x) :** Add an item x to rear of queue\n",
    "- **dequeue() :** Remove an item from front of queue\n",
    "- **size() :** Returns number of elements in queue.\n",
    "- **front() :** Finds front item."
   ]
  },
  {
   "cell_type": "code",
   "execution_count": 15,
   "id": "5fdd48c4",
   "metadata": {},
   "outputs": [
    {
     "name": "stdout",
     "output_type": "stream",
     "text": [
      "deque([3, 2, 1, 4, 5])\n"
     ]
    }
   ],
   "source": [
    "from collections import deque\n",
    "\n",
    "def reverse_k_elements(queue, k):\n",
    "    stack = [queue.popleft() for _ in range(k)]\n",
    "    queue.extendleft(stack)\n",
    "    return queue\n",
    "\n",
    "# Example\n",
    "queue = deque([1, 2, 3, 4, 5])\n",
    "k = 3\n",
    "output = reverse_k_elements(queue, k)\n",
    "print(output)"
   ]
  },
  {
   "cell_type": "markdown",
   "id": "a7a2a509",
   "metadata": {},
   "source": [
    "**Question 7**\n",
    "\n",
    "Given a sequence of n strings, the task is to check if any two similar words come together and then destroy each other then print the number of words left in the sequence after this pairwise destruction."
   ]
  },
  {
   "cell_type": "code",
   "execution_count": 16,
   "id": "860875b9",
   "metadata": {},
   "outputs": [
    {
     "name": "stdout",
     "output_type": "stream",
     "text": [
      "3\n",
      "0\n"
     ]
    }
   ],
   "source": [
    "def count_remaining_words(sequence):\n",
    "    stack = []\n",
    "\n",
    "    for word in sequence:\n",
    "        if stack and stack[-1] == word:\n",
    "            stack.pop()\n",
    "        else:\n",
    "            stack.append(word)\n",
    "\n",
    "    return len(stack)\n",
    "\n",
    "# Example\n",
    "sequence = ['ab', 'aa', 'aa', 'bcd', 'ab']\n",
    "output = count_remaining_words(sequence)\n",
    "print(output)\n",
    "\n",
    "sequence = ['tom', 'jerry', 'jerry', 'tom']\n",
    "output = count_remaining_words(sequence)\n",
    "print(output)"
   ]
  },
  {
   "cell_type": "markdown",
   "id": "3f8c455a",
   "metadata": {},
   "source": [
    "**Question 8**\n",
    "\n",
    "Given an array of integers, the task is to find the maximum absolute difference between the nearest left and the right smaller element of every element in the array.\n",
    "\n",
    "**Note:** If there is no smaller element on right side or left side of any element then we take zero as the smaller element. For example for the leftmost element, the nearest smaller element on the left side is considered as 0. Similarly, for rightmost elements, the smaller element on the right side is considered as 0."
   ]
  },
  {
   "cell_type": "code",
   "execution_count": 19,
   "id": "7189fb59",
   "metadata": {},
   "outputs": [
    {
     "name": "stdout",
     "output_type": "stream",
     "text": [
      "1\n",
      "4\n"
     ]
    }
   ],
   "source": [
    "def absolute_difference(arr):\n",
    "    n = len(arr)\n",
    "    left_smaller = [0] * n\n",
    "    right_smaller = [0] * n\n",
    "\n",
    "    stack = []\n",
    "    for i in range(n):\n",
    "        while stack and stack[-1] >= arr[i]:\n",
    "            stack.pop()\n",
    "        if stack:\n",
    "            left_smaller[i] = stack[-1]\n",
    "        stack.append(arr[i])\n",
    "\n",
    "    stack.clear()\n",
    "    for i in range(n - 1, -1, -1):\n",
    "        while stack and stack[-1] >= arr[i]:\n",
    "            stack.pop()\n",
    "        if stack:\n",
    "            right_smaller[i] = stack[-1]\n",
    "        stack.append(arr[i])\n",
    "\n",
    "    max_diff = max(abs(left_smaller[i] - right_smaller[i]) for i in range(n))\n",
    "    return max_diff\n",
    "\n",
    "# Example\n",
    "arr = [2, 1, 8]\n",
    "output = absolute_difference(arr)\n",
    "print(output)  # 1\n",
    "\n",
    "arr = [2, 4, 8, 7, 7, 9, 3]\n",
    "output = absolute_difference(arr)\n",
    "print(output)  # 4"
   ]
  }
 ],
 "metadata": {
  "kernelspec": {
   "display_name": "Python 3 (ipykernel)",
   "language": "python",
   "name": "python3"
  },
  "language_info": {
   "codemirror_mode": {
    "name": "ipython",
    "version": 3
   },
   "file_extension": ".py",
   "mimetype": "text/x-python",
   "name": "python",
   "nbconvert_exporter": "python",
   "pygments_lexer": "ipython3",
   "version": "3.9.12"
  }
 },
 "nbformat": 4,
 "nbformat_minor": 5
}
