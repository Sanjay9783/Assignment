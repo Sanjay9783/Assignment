{
 "cells": [
  {
   "cell_type": "code",
   "execution_count": 1,
   "id": "72be771f",
   "metadata": {},
   "outputs": [
    {
     "data": {
      "text/plain": [
       "[1, 3, 12, 0, 0]"
      ]
     },
     "execution_count": 1,
     "metadata": {},
     "output_type": "execute_result"
    }
   ],
   "source": [
    "def move(x):\n",
    "    y=x.count(0)\n",
    "    \n",
    "    for i in x:\n",
    "        if i==0:\n",
    "            x.remove(0)\n",
    "    \n",
    "    for i in range(y):\n",
    "        x.append(0)\n",
    "    return x\n",
    "\n",
    "move([0,1,0,3,12])"
   ]
  },
  {
   "cell_type": "code",
   "execution_count": null,
   "id": "bb4c7d20",
   "metadata": {},
   "outputs": [],
   "source": []
  }
 ],
 "metadata": {
  "kernelspec": {
   "display_name": "Python 3 (ipykernel)",
   "language": "python",
   "name": "python3"
  },
  "language_info": {
   "codemirror_mode": {
    "name": "ipython",
    "version": 3
   },
   "file_extension": ".py",
   "mimetype": "text/x-python",
   "name": "python",
   "nbconvert_exporter": "python",
   "pygments_lexer": "ipython3",
   "version": "3.9.7"
  }
 },
 "nbformat": 4,
 "nbformat_minor": 5
}
